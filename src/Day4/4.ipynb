{
 "cells": [
  {
   "cell_type": "code",
   "execution_count": 1,
   "metadata": {},
   "outputs": [
    {
     "name": "stdout",
     "output_type": "stream",
     "text": [
      "25183\n"
     ]
    }
   ],
   "source": [
    "#Part 1\n",
    "mySum = 0\n",
    "with open(\"4.txt\", \"r\") as f:\n",
    "    for line in f:\n",
    "        winNums = []\n",
    "        _, numbers = line.split(\":\")\n",
    "        winningNumbers, ourNumbers = numbers.split(\"|\")\n",
    "        winningNumbers = winningNumbers.split(\" \")\n",
    "        ourNumbers = ourNumbers.split(\" \")\n",
    "        for number in winningNumbers:\n",
    "            try:\n",
    "                winNums.append(int(number.strip()))\n",
    "            except:\n",
    "                shittyFormating = True\n",
    "        counter = 0\n",
    "        for number in ourNumbers:\n",
    "            try:\n",
    "                if int(number.strip()) in winNums:\n",
    "                    counter += 1\n",
    "            except:\n",
    "                shittyFormating = True\n",
    "        if counter > 0:\n",
    "            mySum += pow(2, counter-1)\n",
    "print(mySum)"
   ]
  },
  {
   "cell_type": "code",
   "execution_count": 2,
   "metadata": {},
   "outputs": [
    {
     "name": "stdout",
     "output_type": "stream",
     "text": [
      "5667240\n"
     ]
    }
   ],
   "source": [
    "#Part 2\n",
    "mySum = 0\n",
    "myMap = {}\n",
    "with open(\"4.txt\", \"r\") as f:\n",
    "    for line in f:\n",
    "        winNums = []\n",
    "        gameId, numbers = line.split(\":\")\n",
    "        gameId = int(gameId[5:].strip())\n",
    "        winningNumbers, ourNumbers = numbers.split(\"|\")\n",
    "        winningNumbers = winningNumbers.split(\" \")\n",
    "        ourNumbers = ourNumbers.split(\" \")\n",
    "        for number in winningNumbers:\n",
    "            try:\n",
    "                winNums.append(int(number.strip()))\n",
    "            except:\n",
    "                shittyFormating = True\n",
    "        counter = 0\n",
    "        for number in ourNumbers:\n",
    "            try:\n",
    "                if int(number.strip()) in winNums:\n",
    "                    counter += 1\n",
    "            except:\n",
    "                shittyFormating = True\n",
    "        if gameId not in myMap.keys():\n",
    "            myMap[gameId] = 1\n",
    "        else:\n",
    "            myMap[gameId] += 1\n",
    "        for i in range(1, counter+1):\n",
    "            if (gameId+i) in myMap.keys():\n",
    "                myMap[gameId+i] += myMap[gameId]\n",
    "            else:\n",
    "                myMap[gameId+i] = myMap[gameId]\n",
    "for key in myMap.keys():\n",
    "    mySum += myMap[key]\n",
    "print(mySum)"
   ]
  }
 ],
 "metadata": {
  "kernelspec": {
   "display_name": "advent",
   "language": "python",
   "name": "python3"
  },
  "language_info": {
   "codemirror_mode": {
    "name": "ipython",
    "version": 3
   },
   "file_extension": ".py",
   "mimetype": "text/x-python",
   "name": "python",
   "nbconvert_exporter": "python",
   "pygments_lexer": "ipython3",
   "version": "3.11.5"
  }
 },
 "nbformat": 4,
 "nbformat_minor": 2
}
