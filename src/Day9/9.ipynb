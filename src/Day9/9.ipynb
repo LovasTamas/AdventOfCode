{
 "cells": [
  {
   "cell_type": "code",
   "execution_count": 1,
   "metadata": {},
   "outputs": [],
   "source": [
    "#Part1\n",
    "def createPyramid(nums):\n",
    "    pyramid = {}\n",
    "    pyramid[0] = []\n",
    "    for num in nums:\n",
    "        pyramid[0].append(num)\n",
    "\n",
    "    pyrInd = 0\n",
    "    allZero = False\n",
    "    while allZero != True:\n",
    "        zeroes = True\n",
    "        for i in range(len(pyramid[pyrInd])-1):\n",
    "            if pyrInd+1 not in pyramid.keys():\n",
    "                pyramid[pyrInd+1] = []\n",
    "            diff = pyramid[pyrInd][i+1] - pyramid[pyrInd][i]\n",
    "            if diff != 0:\n",
    "                zeroes = False\n",
    "            pyramid[pyrInd+1].append(diff)\n",
    "        pyrInd += 1\n",
    "        if zeroes:\n",
    "            allZero = True\n",
    "            break\n",
    "    return pyramid"
   ]
  },
  {
   "cell_type": "code",
   "execution_count": 2,
   "metadata": {},
   "outputs": [],
   "source": [
    "def extrapolate(pyramid):\n",
    "    lowestInd = len(pyramid)-1\n",
    "    lowerInd = len(pyramid)-2\n",
    "    pyramid[lowestInd].append(0)\n",
    "    while lowerInd != -1:\n",
    "        pyramid[lowerInd].append(pyramid[lowestInd][-1] + pyramid[lowerInd][-1])\n",
    "        lowerInd -= 1\n",
    "        lowestInd -= 1\n",
    "    return pyramid"
   ]
  },
  {
   "cell_type": "code",
   "execution_count": 3,
   "metadata": {},
   "outputs": [
    {
     "name": "stdout",
     "output_type": "stream",
     "text": [
      "1974913025\n"
     ]
    }
   ],
   "source": [
    "mySum = 0\n",
    "with open(\"9.txt\") as f:\n",
    "    for line in f:\n",
    "        numbersT = line.strip().split(\" \")\n",
    "        numbers = []\n",
    "        for num in numbersT:\n",
    "            numbers.append(int(num))\n",
    "        pyr = createPyramid(numbers)\n",
    "        pyr = extrapolate(pyr)\n",
    "        mySum += pyr[0][-1]\n",
    "print(mySum)     "
   ]
  },
  {
   "cell_type": "code",
   "execution_count": 4,
   "metadata": {},
   "outputs": [],
   "source": [
    "def extrapolateBackward(pyramid):\n",
    "    lowestInd = len(pyramid)-1\n",
    "    lowerInd = len(pyramid)-2\n",
    "    pyramid[lowestInd].insert(0, 0)\n",
    "    while lowerInd != -1:\n",
    "        pyramid[lowerInd].insert(0, pyramid[lowerInd][0]-pyramid[lowestInd][0])\n",
    "        lowerInd -= 1\n",
    "        lowestInd -= 1\n",
    "    return pyramid"
   ]
  },
  {
   "cell_type": "code",
   "execution_count": 5,
   "metadata": {},
   "outputs": [
    {
     "name": "stdout",
     "output_type": "stream",
     "text": [
      "884\n"
     ]
    }
   ],
   "source": [
    "#Part2\n",
    "mySum = 0\n",
    "with open(\"9.txt\") as f:\n",
    "    for line in f:\n",
    "        numbersT = line.strip().split(\" \")\n",
    "        numbers = []\n",
    "        for num in numbersT:\n",
    "            numbers.append(int(num))\n",
    "        pyr = createPyramid(numbers)\n",
    "        pyr = extrapolateBackward(pyr)\n",
    "        mySum += pyr[0][0]\n",
    "print(mySum)     "
   ]
  }
 ],
 "metadata": {
  "kernelspec": {
   "display_name": "advent",
   "language": "python",
   "name": "python3"
  },
  "language_info": {
   "codemirror_mode": {
    "name": "ipython",
    "version": 3
   },
   "file_extension": ".py",
   "mimetype": "text/x-python",
   "name": "python",
   "nbconvert_exporter": "python",
   "pygments_lexer": "ipython3",
   "version": "3.11.5"
  }
 },
 "nbformat": 4,
 "nbformat_minor": 2
}
