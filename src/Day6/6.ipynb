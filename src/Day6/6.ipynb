{
 "cells": [
  {
   "cell_type": "code",
   "execution_count": 1,
   "metadata": {},
   "outputs": [],
   "source": [
    "#Part1\n",
    "with open(\"6.txt\") as f:\n",
    "    timesT = f.readline()\n",
    "    timesT = timesT[5:].strip().split(\" \")\n",
    "    distancesT = f.readline()\n",
    "    distancesT = distancesT[9:].strip().split(\" \")\n",
    "    times = []\n",
    "    distances = []\n",
    "    for t in timesT:\n",
    "        try:\n",
    "            times.append(int(t))\n",
    "        except:\n",
    "            continue\n",
    "    for d in distancesT:\n",
    "        try:\n",
    "            distances.append(int(d))\n",
    "        except:\n",
    "            continue"
   ]
  },
  {
   "cell_type": "code",
   "execution_count": 2,
   "metadata": {},
   "outputs": [],
   "source": [
    "def findWinnerOptions(time, distance):\n",
    "    options = 0\n",
    "    for t in range(1, time+1):\n",
    "        travTime = time-t\n",
    "        speed = t\n",
    "        travDist = travTime*speed\n",
    "        if travDist > distance:\n",
    "            options += 1\n",
    "    return options"
   ]
  },
  {
   "cell_type": "code",
   "execution_count": 3,
   "metadata": {},
   "outputs": [
    {
     "name": "stdout",
     "output_type": "stream",
     "text": [
      "2612736\n"
     ]
    }
   ],
   "source": [
    "mySum = 1\n",
    "for t, d in zip(times, distances):\n",
    "    mySum *= findWinnerOptions(t, d)\n",
    "print(mySum)"
   ]
  },
  {
   "cell_type": "code",
   "execution_count": 4,
   "metadata": {},
   "outputs": [],
   "source": [
    "#Part2\n",
    "with open(\"6.txt\") as f:\n",
    "    timesT = f.readline()\n",
    "    timesT = timesT[5:].strip().split(\" \")\n",
    "    distancesT = f.readline()\n",
    "    distancesT = distancesT[9:].strip().split(\" \")\n",
    "    time = None\n",
    "    distance = None\n",
    "    timeT = \"\"\n",
    "    distT = \"\"\n",
    "    for t in timesT:\n",
    "        try:\n",
    "            asd = int(t)\n",
    "            timeT += t\n",
    "        except:\n",
    "            continue\n",
    "    for d in distancesT:\n",
    "        try:\n",
    "            asd = int(d)\n",
    "            distT += d\n",
    "        except:\n",
    "            continue\n",
    "    time = int(timeT)\n",
    "    distance = int(distT)"
   ]
  },
  {
   "cell_type": "code",
   "execution_count": 5,
   "metadata": {},
   "outputs": [
    {
     "name": "stdout",
     "output_type": "stream",
     "text": [
      "29891250\n"
     ]
    }
   ],
   "source": [
    "print(findWinnerOptions(time, distance))"
   ]
  }
 ],
 "metadata": {
  "kernelspec": {
   "display_name": "advent",
   "language": "python",
   "name": "python3"
  },
  "language_info": {
   "codemirror_mode": {
    "name": "ipython",
    "version": 3
   },
   "file_extension": ".py",
   "mimetype": "text/x-python",
   "name": "python",
   "nbconvert_exporter": "python",
   "pygments_lexer": "ipython3",
   "version": "3.11.5"
  }
 },
 "nbformat": 4,
 "nbformat_minor": 2
}
