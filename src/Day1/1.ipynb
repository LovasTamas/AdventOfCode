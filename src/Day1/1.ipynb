{
 "cells": [
  {
   "cell_type": "code",
   "execution_count": 1,
   "metadata": {},
   "outputs": [],
   "source": [
    "numbers = [\"0\", \"1\", \"2\", \"3\", \"4\", \"5\", \"6\", \"7\", \"8\", \"9\"]\n",
    "textNums = {}\n",
    "\n",
    "textNums[\"one\"] = \"1\"\n",
    "textNums[\"two\"] = \"2\"\n",
    "textNums[\"three\"] = \"3\"\n",
    "textNums[\"four\"] = \"4\"\n",
    "textNums[\"five\"] = \"5\"\n",
    "textNums[\"six\"] = \"6\"\n",
    "textNums[\"seven\"] = \"7\"\n",
    "textNums[\"eight\"] = \"8\"\n",
    "textNums[\"nine\"] = \"9\""
   ]
  },
  {
   "cell_type": "code",
   "execution_count": 2,
   "metadata": {},
   "outputs": [
    {
     "name": "stdout",
     "output_type": "stream",
     "text": [
      "55358\n"
     ]
    }
   ],
   "source": [
    "mySum = 0\n",
    "with open(\"1.txt\", \"r\") as f:\n",
    "    for line in f:\n",
    "        myString = line\n",
    "        lineNum = \"\"\n",
    "        for key in textNums.keys():\n",
    "            if key in line:\n",
    "                myString = myString.replace(key, key+textNums[key]+key)\n",
    "        for char in myString:\n",
    "            if char in numbers:\n",
    "                lineNum = lineNum+char\n",
    "        if len(lineNum) < 2:\n",
    "            lineNum = lineNum + lineNum\n",
    "        if len(lineNum) > 2:\n",
    "            lineNum = lineNum[0] + lineNum[-1]\n",
    "        mySum += int(lineNum)\n",
    "print(mySum)"
   ]
  }
 ],
 "metadata": {
  "kernelspec": {
   "display_name": "autopalya",
   "language": "python",
   "name": "python3"
  },
  "language_info": {
   "codemirror_mode": {
    "name": "ipython",
    "version": 3
   },
   "file_extension": ".py",
   "mimetype": "text/x-python",
   "name": "python",
   "nbconvert_exporter": "python",
   "pygments_lexer": "ipython3",
   "version": "3.11.5"
  }
 },
 "nbformat": 4,
 "nbformat_minor": 2
}
