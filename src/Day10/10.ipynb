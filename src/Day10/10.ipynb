{
 "cells": [
  {
   "cell_type": "code",
   "execution_count": 1,
   "metadata": {},
   "outputs": [],
   "source": [
    "#Part1\n",
    "def stepInLoop(character, prev_pos, pos):\n",
    "    y1, x1 = prev_pos\n",
    "    y2, x2 = pos\n",
    "    diffY = y2-y1\n",
    "    diffX = x2-x1\n",
    "    if character == \"|\":\n",
    "        if diffY == 1:\n",
    "            return (pos[0]+1, pos[1])\n",
    "        else:\n",
    "            return (pos[0]-1, pos[1])\n",
    "    if character == \"-\":\n",
    "        if diffX == 1:\n",
    "            return (pos[0], pos[1]+1)\n",
    "        else:\n",
    "            return (pos[0], pos[1]-1)\n",
    "    if character == \"L\":\n",
    "        if diffY == 1:\n",
    "            return (pos[0], pos[1]+1)\n",
    "        else:\n",
    "            return (pos[0]-1, pos[1])\n",
    "    if character == \"J\":\n",
    "        if diffY == 1:\n",
    "            return (pos[0], pos[1]-1)\n",
    "        else:\n",
    "            return (pos[0]-1, pos[1])\n",
    "    if character == \"7\":\n",
    "        if diffX == 1:\n",
    "            return (pos[0]+1, pos[1])\n",
    "        else:\n",
    "            return (pos[0], pos[1]-1)\n",
    "    if character == \"F\":\n",
    "        if diffX == -1:\n",
    "            return (pos[0]+1, pos[1])\n",
    "        else:\n",
    "            return (pos[0], pos[1]+1)\n",
    "    if character == \".\":\n",
    "        return None"
   ]
  },
  {
   "cell_type": "code",
   "execution_count": 2,
   "metadata": {},
   "outputs": [
    {
     "name": "stdout",
     "output_type": "stream",
     "text": [
      "6815\n"
     ]
    }
   ],
   "source": [
    "with open(\"10.txt\", \"r\") as f:\n",
    "    text = f.readlines()\n",
    "    for idx, line in enumerate(text):\n",
    "        if line.find(\"S\") != -1:\n",
    "            startingPos = (idx, line.find(\"S\"))\n",
    "\n",
    "lastSymbol = None\n",
    "prev_pos = startingPos\n",
    "pos = (startingPos[0], startingPos[1]-1)\n",
    "count = 0\n",
    "while pos != startingPos:\n",
    "    temp = stepInLoop(text[pos[0]][pos[1]], prev_pos, pos)\n",
    "    prev_pos = pos\n",
    "    pos = temp\n",
    "    count += 1\n",
    "print(int((count+1)/2))"
   ]
  },
  {
   "cell_type": "code",
   "execution_count": 3,
   "metadata": {},
   "outputs": [],
   "source": [
    "#Part2\n",
    "with open(\"10.txt\", \"r\") as f:\n",
    "    text = f.readlines()\n",
    "    for idx, line in enumerate(text):\n",
    "        if line.find(\"S\") != -1:\n",
    "            startingPos = (idx, line.find(\"S\"))\n",
    "\n",
    "lastSymbol = None\n",
    "prev_pos = startingPos\n",
    "pos = (startingPos[0], startingPos[1]-1)\n",
    "steppedHere = [pos]\n",
    "corners = []\n",
    "while pos != startingPos:\n",
    "    letter = text[pos[0]][pos[1]]\n",
    "    if letter == \"J\" or letter == \"F\" or letter == \"7\" or letter == \"L\":\n",
    "        corners.append((pos[0], pos[1]))\n",
    "    temp = stepInLoop(letter, prev_pos, pos)\n",
    "    prev_pos = pos\n",
    "    pos = temp\n",
    "    steppedHere.append(pos)"
   ]
  },
  {
   "cell_type": "code",
   "execution_count": 4,
   "metadata": {},
   "outputs": [],
   "source": [
    "verticalWalls = []\n",
    "verticalDir = []\n",
    "for i in range(len(corners)-1):\n",
    "    x1, y1 = corners[i]\n",
    "    x2, y2 = corners[i+1]\n",
    "    if x2-x1 > 0:\n",
    "        for j in range(x2-x1+1):\n",
    "            verticalWalls.append((x1+j, y1))\n",
    "            verticalDir.append(1)\n",
    "    if x1-x2 > 0:\n",
    "        for j in range(x1-x2+1):\n",
    "            verticalWalls.append((x2+j, y2))\n",
    "            verticalDir.append(-1)"
   ]
  },
  {
   "cell_type": "code",
   "execution_count": 5,
   "metadata": {},
   "outputs": [],
   "source": [
    "newText = []\n",
    "for i in range(len(text)):\n",
    "    row = \"\"\n",
    "    for j in range(len(text[i])):\n",
    "        if (i, j) in steppedHere:\n",
    "            row += text[i][j]\n",
    "        else:\n",
    "            row += \".\"\n",
    "    row += \"\\n\"\n",
    "    newText.append(row)"
   ]
  },
  {
   "cell_type": "code",
   "execution_count": 6,
   "metadata": {},
   "outputs": [
    {
     "name": "stdout",
     "output_type": "stream",
     "text": [
      "269\n"
     ]
    }
   ],
   "source": [
    "counter = 0\n",
    "for i in range(len(text)):\n",
    "    wallCounter = 0\n",
    "    lastWallDirection = None\n",
    "    for j in range(len(text[i])):\n",
    "        if (i, j) in verticalWalls:\n",
    "            dir = verticalDir[verticalWalls.index((i, j))]\n",
    "            if lastWallDirection != dir:\n",
    "                lastWallDirection = dir\n",
    "                wallCounter += 1\n",
    "        if newText[i][j] == \".\" and wallCounter%2==1:\n",
    "            counter += 1\n",
    "\n",
    "print(counter)"
   ]
  }
 ],
 "metadata": {
  "kernelspec": {
   "display_name": "advent",
   "language": "python",
   "name": "python3"
  },
  "language_info": {
   "codemirror_mode": {
    "name": "ipython",
    "version": 3
   },
   "file_extension": ".py",
   "mimetype": "text/x-python",
   "name": "python",
   "nbconvert_exporter": "python",
   "pygments_lexer": "ipython3",
   "version": "3.11.5"
  }
 },
 "nbformat": 4,
 "nbformat_minor": 2
}
