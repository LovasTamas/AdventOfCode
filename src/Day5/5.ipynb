{
 "cells": [
  {
   "cell_type": "code",
   "execution_count": 1,
   "metadata": {},
   "outputs": [],
   "source": [
    "#Part1\n",
    "with open(\"5.txt\", \"r\") as f:\n",
    "    seedsT = f.readline()[6:].strip().split(\" \")\n",
    "    f.readline()\n",
    "    maps = f.readlines()\n",
    "myMap = {}\n",
    "for line in maps:\n",
    "    if \"map\" in line:\n",
    "        mapingName = line.split(\" \")[0]\n",
    "        myMap[mapingName] = []\n",
    "    elif len(line) > 1:\n",
    "        dest, source, myRange = line.strip().split(\" \")\n",
    "        myMap[mapingName].append((int(source), int(dest), int(myRange)))"
   ]
  },
  {
   "cell_type": "code",
   "execution_count": 2,
   "metadata": {},
   "outputs": [],
   "source": [
    "seeds = []\n",
    "seedMapping = {}\n",
    "for seed in seedsT:\n",
    "    seeds.append(int(seed))\n",
    "    seedMapping[int(seed)] = [int(seed)]"
   ]
  },
  {
   "cell_type": "code",
   "execution_count": 3,
   "metadata": {},
   "outputs": [],
   "source": [
    "def inRange(num, start, r):\n",
    "    diff = num-start\n",
    "    if diff >= 0 and diff < r:\n",
    "        return True\n",
    "    return False\n",
    "\n",
    "def findInCategory(myList, myNum):\n",
    "    for s, d, r in myList:\n",
    "        if inRange(myNum, s, r):\n",
    "            return d+(myNum-s)\n",
    "    return myNum"
   ]
  },
  {
   "cell_type": "code",
   "execution_count": 4,
   "metadata": {},
   "outputs": [
    {
     "name": "stdout",
     "output_type": "stream",
     "text": [
      "486613012\n"
     ]
    }
   ],
   "source": [
    "for seed in seeds:\n",
    "    for key in myMap.keys():\n",
    "        seedMapping[seed].append(findInCategory(myMap[key], seedMapping[seed][-1]))\n",
    "lowest = None\n",
    "for key in seedMapping.keys():\n",
    "    if lowest == None:\n",
    "        lowest = seedMapping[key][-1]\n",
    "    if seedMapping[key][-1] < lowest:\n",
    "        lowest = seedMapping[key][-1]\n",
    "print(lowest)"
   ]
  },
  {
   "cell_type": "code",
   "execution_count": 5,
   "metadata": {},
   "outputs": [],
   "source": [
    "#Part2\n",
    "with open(\"5.txt\", \"r\") as f:\n",
    "    seedsT = f.readline()[6:].strip().split(\" \")\n",
    "    f.readline()\n",
    "    maps = f.readlines()\n",
    "myMap = {}\n",
    "for line in maps:\n",
    "    if \"map\" in line:\n",
    "        mapingName = line.split(\" \")[0]\n",
    "        myMap[mapingName] = []\n",
    "    elif len(line) > 1:\n",
    "        dest, source, myRange = line.strip().split(\" \")\n",
    "        myMap[mapingName].append((int(source), int(dest), int(myRange)))"
   ]
  },
  {
   "cell_type": "code",
   "execution_count": 6,
   "metadata": {},
   "outputs": [],
   "source": [
    "seeds = []\n",
    "seedMapping = {}\n",
    "index = 0\n",
    "for i in range(0, len(seedsT), 2):\n",
    "    seedMapping[index] = []\n",
    "    seedMapping[index].append([range(int(seedsT[i]), int(seedsT[i])+int(seedsT[i+1]))])\n",
    "    index += 1"
   ]
  },
  {
   "cell_type": "code",
   "execution_count": 7,
   "metadata": {},
   "outputs": [],
   "source": [
    "def findBeginMutual(range1, range2):\n",
    "    if range2.start in range1:\n",
    "        return range2.start\n",
    "    return -1\n",
    "\n",
    "def findEndMutual(range1, range2):\n",
    "    if range2.stop in range1:\n",
    "        return range2.stop\n",
    "    else:\n",
    "        return range1.stop\n",
    "\n",
    "def findMutualRange(range1, range2):\n",
    "    if range1.start > range2.start:\n",
    "        temp = range1\n",
    "        range1 = range2\n",
    "        range2 = temp\n",
    "    start = findBeginMutual(range1, range2)\n",
    "    if start != -1:\n",
    "        end = findEndMutual(range1, range2)\n",
    "        return range(start, end)\n",
    "    return None"
   ]
  },
  {
   "cell_type": "code",
   "execution_count": 8,
   "metadata": {},
   "outputs": [],
   "source": [
    "def fillEmptyRanges(covered, fullRange):\n",
    "    splittingPoints = []\n",
    "    for cov in covered:\n",
    "        splittingPoints.append(cov.start)\n",
    "        splittingPoints.append(cov.stop)\n",
    "    splittingPoints.append(fullRange.start)\n",
    "    splittingPoints.append(fullRange.stop)\n",
    "    splittingPoints.sort()\n",
    "    allRanges = []\n",
    "    for i, v in enumerate(splittingPoints):\n",
    "        if i == len(splittingPoints)-1:\n",
    "            break\n",
    "        inside = False\n",
    "        for cov in covered:\n",
    "            if v in cov:\n",
    "                inside = True\n",
    "        if not inside:\n",
    "            allRanges.append(range(splittingPoints[i], splittingPoints[i+1]))\n",
    "    return allRanges"
   ]
  },
  {
   "cell_type": "code",
   "execution_count": 9,
   "metadata": {},
   "outputs": [],
   "source": [
    "for key in seedMapping.keys():\n",
    "    for key2 in myMap.keys():\n",
    "        options = []\n",
    "        list1 = seedMapping[key][-1]\n",
    "        for r2 in list1:\n",
    "            foundMutual = False\n",
    "            coveredRanges = []\n",
    "            for s, d, r in myMap[key2]:\n",
    "                mutual = findMutualRange(r2, range(s, s+r))\n",
    "                if mutual != None:\n",
    "                    foundMutual = True\n",
    "                    diff = d-s\n",
    "                    if mutual.start > r2.start and mutual.stop < r2.stop:\n",
    "                        newThing = range(mutual.start+diff, mutual.stop+diff)\n",
    "                        if newThing not in options:\n",
    "                            options.append(newThing)\n",
    "                            coveredRanges.append(mutual)\n",
    "                    elif mutual.start == r2.start and mutual.stop == r2.stop:\n",
    "                        newThing = range(mutual.start+diff, mutual.stop+diff)\n",
    "                        if newThing not in options:\n",
    "                            options.append(newThing)\n",
    "                            coveredRanges.append(mutual)\n",
    "                    elif mutual.start > r2.start and mutual.stop == r2.stop:\n",
    "                        newThing = range(mutual.start+diff, mutual.stop+diff)\n",
    "                        if newThing not in options:\n",
    "                            options.append(newThing)\n",
    "                            coveredRanges.append(mutual)\n",
    "                    elif mutual.start == r2.start and mutual.stop < r2.stop:\n",
    "                        newThing = range(mutual.start+diff, mutual.stop+diff)\n",
    "                        if newThing not in options:\n",
    "                            options.append(newThing)\n",
    "                            coveredRanges.append(mutual)\n",
    "            if not foundMutual:\n",
    "                    if r2 not in options:\n",
    "                        options.append(r2)\n",
    "            else:\n",
    "                 numbers = r2.stop-r2.start\n",
    "                 ranges = 0\n",
    "                 for cov in coveredRanges:\n",
    "                     ranges += cov.stop-cov.start\n",
    "                 if numbers != ranges:\n",
    "                    emptyRanges = fillEmptyRanges(coveredRanges, r2)\n",
    "                    for ra in emptyRanges:\n",
    "                        options.append(ra)\n",
    "        seedMapping[key].append(options)"
   ]
  },
  {
   "cell_type": "code",
   "execution_count": 10,
   "metadata": {},
   "outputs": [
    {
     "name": "stdout",
     "output_type": "stream",
     "text": [
      "56931769\n"
     ]
    }
   ],
   "source": [
    "lowest = None\n",
    "for seedID in seedMapping:\n",
    "    for i in seedMapping[seedID][-1]:\n",
    "        if lowest == None:\n",
    "            lowest = i.start\n",
    "        if lowest > i.start:\n",
    "            lowest = i.start\n",
    "print(lowest)"
   ]
  }
 ],
 "metadata": {
  "kernelspec": {
   "display_name": "advent",
   "language": "python",
   "name": "python3"
  },
  "language_info": {
   "codemirror_mode": {
    "name": "ipython",
    "version": 3
   },
   "file_extension": ".py",
   "mimetype": "text/x-python",
   "name": "python",
   "nbconvert_exporter": "python",
   "pygments_lexer": "ipython3",
   "version": "3.11.5"
  }
 },
 "nbformat": 4,
 "nbformat_minor": 2
}
