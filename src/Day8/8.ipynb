{
 "cells": [
  {
   "cell_type": "code",
   "execution_count": 1,
   "metadata": {},
   "outputs": [],
   "source": [
    "#Part1\n",
    "class Node:\n",
    "    def __init__(self, id, left=None, right=None):\n",
    "        self.id = id\n",
    "        self.left = left\n",
    "        self.right = right\n",
    "    \n",
    "    def getID(self):\n",
    "        return self.id\n",
    "    \n",
    "    def getL(self):\n",
    "        return self.left\n",
    "    \n",
    "    def getR(self):\n",
    "        return self.right\n",
    "    \n",
    "    def setL(self, left):\n",
    "        self.left = left\n",
    "    \n",
    "    def setR(self, right):\n",
    "        self.right = right"
   ]
  },
  {
   "cell_type": "code",
   "execution_count": 2,
   "metadata": {},
   "outputs": [],
   "source": [
    "nodes = []\n",
    "neighs = []\n",
    "with open(\"8.txt\") as f:\n",
    "    instructions = f.readline()\n",
    "    f.readline()\n",
    "    for line in f:\n",
    "        id = line[:3]\n",
    "        left = line[7:10]\n",
    "        right = line[12:15]\n",
    "        neighs.append((left, right))\n",
    "        nodes.append(Node(id))"
   ]
  },
  {
   "cell_type": "code",
   "execution_count": 3,
   "metadata": {},
   "outputs": [],
   "source": [
    "startingNode = None\n",
    "for node1, neigh in zip(nodes, neighs):\n",
    "    if node1.getID() == \"AAA\":\n",
    "        startingNode = node1\n",
    "    for node2 in nodes:\n",
    "        l, r = neigh\n",
    "        if node2.getID() == l:\n",
    "            node1.setL(node2)\n",
    "        if node2.getID() == r:\n",
    "            node1.setR(node2)"
   ]
  },
  {
   "cell_type": "code",
   "execution_count": 4,
   "metadata": {},
   "outputs": [
    {
     "name": "stdout",
     "output_type": "stream",
     "text": [
      "16531\n"
     ]
    }
   ],
   "source": [
    "selectedNode = startingNode\n",
    "step = 0\n",
    "while selectedNode.getID() != \"ZZZ\":\n",
    "    for letter in instructions:\n",
    "        if letter == \"L\":\n",
    "            selectedNode = selectedNode.getL()\n",
    "            step += 1\n",
    "        if letter == \"R\":\n",
    "            selectedNode = selectedNode.getR()\n",
    "            step += 1\n",
    "print(step)"
   ]
  },
  {
   "cell_type": "code",
   "execution_count": 5,
   "metadata": {},
   "outputs": [
    {
     "name": "stdout",
     "output_type": "stream",
     "text": [
      "6\n"
     ]
    }
   ],
   "source": [
    "#Part2\n",
    "startingNodes = []\n",
    "for node in nodes:\n",
    "    if node.getID()[-1] == \"A\":\n",
    "        startingNodes.append(node)\n",
    "print(len(startingNodes))"
   ]
  },
  {
   "cell_type": "code",
   "execution_count": 6,
   "metadata": {},
   "outputs": [
    {
     "name": "stdout",
     "output_type": "stream",
     "text": [
      "19241\n",
      "18157\n",
      "19783\n",
      "16531\n",
      "21409\n",
      "14363\n"
     ]
    }
   ],
   "source": [
    "for sNode in startingNodes:\n",
    "    step = 0\n",
    "    while sNode.getID()[-1] != \"Z\":\n",
    "        for letter in instructions[:-1]:\n",
    "            if letter == \"L\":\n",
    "                sNode = sNode.getL()\n",
    "                step += 1\n",
    "            else:\n",
    "                sNode = sNode.getR()\n",
    "                step += 1\n",
    "    print(step)"
   ]
  },
  {
   "cell_type": "code",
   "execution_count": 7,
   "metadata": {},
   "outputs": [],
   "source": [
    "#Solution is based on the LCM from the 6 numbers:\n",
    "#24035773251517"
   ]
  }
 ],
 "metadata": {
  "kernelspec": {
   "display_name": "advent",
   "language": "python",
   "name": "python3"
  },
  "language_info": {
   "codemirror_mode": {
    "name": "ipython",
    "version": 3
   },
   "file_extension": ".py",
   "mimetype": "text/x-python",
   "name": "python",
   "nbconvert_exporter": "python",
   "pygments_lexer": "ipython3",
   "version": "3.11.5"
  }
 },
 "nbformat": 4,
 "nbformat_minor": 2
}
