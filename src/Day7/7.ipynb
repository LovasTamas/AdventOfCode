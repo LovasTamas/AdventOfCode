{
 "cells": [
  {
   "cell_type": "code",
   "execution_count": 1,
   "metadata": {},
   "outputs": [],
   "source": [
    "#Part1\n",
    "cards = [\"2\", \"3\", \"4\", \"5\", \"6\", \"7\", \"8\", \"9\", \"T\", \"J\", \"Q\", \"K\", \"A\"]\n",
    "mapPowerToCards = {}\n",
    "power = 2\n",
    "for c in cards:\n",
    "   mapPowerToCards[c] = power\n",
    "   power += 1"
   ]
  },
  {
   "cell_type": "code",
   "execution_count": 2,
   "metadata": {},
   "outputs": [],
   "source": [
    "with open(\"7.txt\") as f:\n",
    "    hands = []\n",
    "    bids = []\n",
    "    for line in f:\n",
    "        hands.append(line[:5])\n",
    "        bids.append(int(line[6:]))  "
   ]
  },
  {
   "cell_type": "code",
   "execution_count": 3,
   "metadata": {},
   "outputs": [],
   "source": [
    "categories = [\"FIOK\", \"FOOK\", \"FUL\", \"TOK\", \"TP\", \"OP\", \"HC\"]\n",
    "categories.reverse()\n",
    "mapForCats = {}\n",
    "for c in categories:\n",
    "    mapForCats[c] = []"
   ]
  },
  {
   "cell_type": "code",
   "execution_count": 4,
   "metadata": {},
   "outputs": [],
   "source": [
    "def detCat(hand):\n",
    "    mapForInput = {}\n",
    "    for letter in hand:\n",
    "        if letter not in mapForInput.keys():\n",
    "            mapForInput[letter] = 1\n",
    "        else:\n",
    "            mapForInput[letter] += 1\n",
    "    if len(mapForInput.keys()) == 1:\n",
    "        return \"FIOK\"\n",
    "    if len(mapForInput.keys()) == 2:\n",
    "        for k in mapForInput.keys():\n",
    "            if mapForInput[k] == 4:\n",
    "                return \"FOOK\"\n",
    "        return \"FUL\"\n",
    "    if len(mapForInput.keys()) == 3:\n",
    "        for k in mapForInput.keys():\n",
    "            if mapForInput[k] == 3:\n",
    "                return \"TOK\"\n",
    "        return \"TP\"\n",
    "    if len(mapForInput.keys()) == 4:\n",
    "        return \"OP\"\n",
    "    return \"HC\"        "
   ]
  },
  {
   "cell_type": "code",
   "execution_count": 5,
   "metadata": {},
   "outputs": [],
   "source": [
    "for h,b in zip(hands, bids):\n",
    "    cat = detCat(h)\n",
    "    mapForCats[cat].append((h, b))"
   ]
  },
  {
   "cell_type": "code",
   "execution_count": 6,
   "metadata": {},
   "outputs": [],
   "source": [
    "#Bubblesort\n",
    "def sortCategory(categ, powToCards):\n",
    "    for i in range(len(categ)):\n",
    "        swapped = False\n",
    "        for j in range(len(categ)-i-1):\n",
    "            hand, bid = categ[j]\n",
    "            hand2, bid2 = categ[j+1]\n",
    "            for ind in range(5):\n",
    "                if powToCards[hand[ind]] < powToCards[hand2[ind]]:\n",
    "                    break\n",
    "                if powToCards[hand[ind]] > powToCards[hand2[ind]]:\n",
    "                    categ[j], categ[j+1] = categ[j+1], categ[j]\n",
    "                    swapped = True\n",
    "                    break\n",
    "        if (swapped == False):\n",
    "            break"
   ]
  },
  {
   "cell_type": "code",
   "execution_count": 7,
   "metadata": {},
   "outputs": [],
   "source": [
    "for cat in mapForCats.keys():\n",
    "    sortCategory(mapForCats[cat], mapPowerToCards)"
   ]
  },
  {
   "cell_type": "code",
   "execution_count": 8,
   "metadata": {},
   "outputs": [
    {
     "name": "stdout",
     "output_type": "stream",
     "text": [
      "252052080\n"
     ]
    }
   ],
   "source": [
    "counter = 1\n",
    "mySum = 0\n",
    "for cat in mapForCats.keys():\n",
    "    for item in mapForCats[cat]:\n",
    "        h, b = item\n",
    "        mySum += counter*b\n",
    "        counter += 1\n",
    "print(mySum)"
   ]
  },
  {
   "cell_type": "code",
   "execution_count": 9,
   "metadata": {},
   "outputs": [],
   "source": [
    "#Part2\n",
    "def detCat(hand):\n",
    "    mapForInput = {}\n",
    "    for letter in hand:\n",
    "        if letter not in mapForInput.keys():\n",
    "            mapForInput[letter] = 1\n",
    "        else:\n",
    "            mapForInput[letter] += 1\n",
    "    if len(mapForInput.keys()) == 1:\n",
    "        return \"FIOK\"\n",
    "    if len(mapForInput.keys()) == 2:\n",
    "        for k in mapForInput.keys():\n",
    "            if mapForInput[k] == 4:\n",
    "                return \"FOOK\"\n",
    "        return \"FUL\"\n",
    "    if len(mapForInput.keys()) == 3:\n",
    "        for k in mapForInput.keys():\n",
    "            if mapForInput[k] == 3:\n",
    "                return \"TOK\"\n",
    "        return \"TP\"\n",
    "    if len(mapForInput.keys()) == 4:\n",
    "        return \"OP\"\n",
    "    return \"HC\"        "
   ]
  },
  {
   "cell_type": "code",
   "execution_count": 10,
   "metadata": {},
   "outputs": [],
   "source": [
    "cards = [\"J\", \"2\", \"3\", \"4\", \"5\", \"6\", \"7\", \"8\", \"9\", \"T\", \"Q\", \"K\", \"A\"]\n",
    "mapPowerToCards = {}\n",
    "power = 2\n",
    "for c in cards:\n",
    "   mapPowerToCards[c] = power\n",
    "   power += 1"
   ]
  },
  {
   "cell_type": "code",
   "execution_count": 11,
   "metadata": {},
   "outputs": [],
   "source": [
    "mapValueToCategory = {}\n",
    "value = 1\n",
    "for key in mapForCats.keys():\n",
    "    mapValueToCategory[key] = value\n",
    "    value += 1"
   ]
  },
  {
   "cell_type": "code",
   "execution_count": 12,
   "metadata": {},
   "outputs": [],
   "source": [
    "categories = [\"FIOK\", \"FOOK\", \"FUL\", \"TOK\", \"TP\", \"OP\", \"HC\"]\n",
    "categories.reverse()\n",
    "mapForCats = {}\n",
    "for c in categories:\n",
    "    mapForCats[c] = []"
   ]
  },
  {
   "cell_type": "code",
   "execution_count": 13,
   "metadata": {},
   "outputs": [],
   "source": [
    "for h,b in zip(hands, bids):\n",
    "    if \"J\" in h:\n",
    "        best_cat = None\n",
    "        best_cat_v = None\n",
    "        for c in cards:\n",
    "            if c != \"J\":\n",
    "                changedHand = h.replace(\"J\", c)\n",
    "                cat = detCat(changedHand)\n",
    "                if best_cat == None:\n",
    "                    best_cat = cat\n",
    "                    best_cat_v = mapValueToCategory[cat]\n",
    "                elif mapValueToCategory[cat] > best_cat_v:\n",
    "                    best_cat = cat\n",
    "                    best_cat_v = mapValueToCategory[cat]\n",
    "        cat = best_cat\n",
    "    else:\n",
    "        cat = detCat(h)\n",
    "    mapForCats[cat].append((h, b))"
   ]
  },
  {
   "cell_type": "code",
   "execution_count": 14,
   "metadata": {},
   "outputs": [],
   "source": [
    "for cat in mapForCats.keys():\n",
    "    sortCategory(mapForCats[cat], mapPowerToCards)"
   ]
  },
  {
   "cell_type": "code",
   "execution_count": 15,
   "metadata": {},
   "outputs": [
    {
     "name": "stdout",
     "output_type": "stream",
     "text": [
      "252898370\n"
     ]
    }
   ],
   "source": [
    "counter = 1\n",
    "mySum = 0\n",
    "for cat in mapForCats.keys():\n",
    "    for item in mapForCats[cat]:\n",
    "        h, b = item\n",
    "        mySum += counter*b\n",
    "        counter += 1\n",
    "print(mySum)"
   ]
  }
 ],
 "metadata": {
  "kernelspec": {
   "display_name": "advent",
   "language": "python",
   "name": "python3"
  },
  "language_info": {
   "codemirror_mode": {
    "name": "ipython",
    "version": 3
   },
   "file_extension": ".py",
   "mimetype": "text/x-python",
   "name": "python",
   "nbconvert_exporter": "python",
   "pygments_lexer": "ipython3",
   "version": "3.11.5"
  }
 },
 "nbformat": 4,
 "nbformat_minor": 2
}
