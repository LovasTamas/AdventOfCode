{
 "cells": [
  {
   "cell_type": "code",
   "execution_count": 9,
   "metadata": {},
   "outputs": [],
   "source": [
    "cubeCollection = {}\n",
    "cubeCollection[\"red\"] = 12\n",
    "cubeCollection[\"green\"] = 13\n",
    "cubeCollection[\"blue\"] = 14"
   ]
  },
  {
   "cell_type": "code",
   "execution_count": 12,
   "metadata": {},
   "outputs": [
    {
     "name": "stdout",
     "output_type": "stream",
     "text": [
      "3059\n"
     ]
    }
   ],
   "source": [
    "#Part 1\n",
    "mySum = 0\n",
    "with open(\"2.txt\", \"r\") as f:\n",
    "    for line in f:\n",
    "        gameId, cubes = line.split(\":\")\n",
    "        gameId = int(gameId[4:])\n",
    "        sets = cubes.split(\";\")\n",
    "\n",
    "        goodGame = True\n",
    "        for set in sets:\n",
    "            coloredCubes = set.split(\",\")\n",
    "            for cCube in coloredCubes:\n",
    "                cCube = cCube.strip()\n",
    "                number, color = cCube.split(\" \")\n",
    "                if int(number) > cubeCollection[color]:\n",
    "                    goodGame = False\n",
    "                    break\n",
    "        if goodGame:\n",
    "            mySum += gameId\n",
    "print(mySum)"
   ]
  },
  {
   "cell_type": "code",
   "execution_count": 13,
   "metadata": {},
   "outputs": [
    {
     "name": "stdout",
     "output_type": "stream",
     "text": [
      "65371\n"
     ]
    }
   ],
   "source": [
    "#Part 2\n",
    "mySum = 0\n",
    "with open(\"2.txt\", \"r\") as f:\n",
    "    for line in f:\n",
    "        cubesInBag = {}\n",
    "        cubesInBag[\"red\"] = 1\n",
    "        cubesInBag[\"green\"] = 1\n",
    "        cubesInBag[\"blue\"] = 1\n",
    "        gameId, cubes = line.split(\":\")\n",
    "        gameId = int(gameId[4:])\n",
    "        sets = cubes.split(\";\")\n",
    "\n",
    "        for set in sets:\n",
    "            coloredCubes = set.split(\",\")\n",
    "            for cCube in coloredCubes:\n",
    "                cCube = cCube.strip()\n",
    "                number, color = cCube.split(\" \")\n",
    "                if int(number) > cubesInBag[color]:\n",
    "                    cubesInBag[color] = int(number)\n",
    "        mySum += cubesInBag[\"red\"] * cubesInBag[\"green\"] * cubesInBag[\"blue\"]\n",
    "print(mySum)"
   ]
  },
  {
   "cell_type": "code",
   "execution_count": null,
   "metadata": {},
   "outputs": [],
   "source": []
  }
 ],
 "metadata": {
  "kernelspec": {
   "display_name": "advent",
   "language": "python",
   "name": "python3"
  },
  "language_info": {
   "codemirror_mode": {
    "name": "ipython",
    "version": 3
   },
   "file_extension": ".py",
   "mimetype": "text/x-python",
   "name": "python",
   "nbconvert_exporter": "python",
   "pygments_lexer": "ipython3",
   "version": "3.11.5"
  }
 },
 "nbformat": 4,
 "nbformat_minor": 2
}
