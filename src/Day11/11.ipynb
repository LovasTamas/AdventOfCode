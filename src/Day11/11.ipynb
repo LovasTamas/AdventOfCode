{
 "cells": [
  {
   "cell_type": "code",
   "execution_count": 10,
   "metadata": {},
   "outputs": [],
   "source": [
    "#Part1\n",
    "class Galaxy:\n",
    "    def __init__(self, id, pos1, pos2):\n",
    "        self.id = id\n",
    "        self.x = pos1\n",
    "        self.y = pos2"
   ]
  },
  {
   "cell_type": "code",
   "execution_count": 11,
   "metadata": {},
   "outputs": [],
   "source": [
    "with open(\"11.txt\", \"r\") as f:\n",
    "    image = f.readlines()\n",
    "\n",
    "#Expanding\n",
    "rowIndex = []\n",
    "badColIndex = []\n",
    "for i in range(len(image)):\n",
    "    allEmpty = True\n",
    "    for j in range(len(image[i])):\n",
    "        if image[i][j] == \"#\":\n",
    "            allEmpty = False\n",
    "            badColIndex.append(j)\n",
    "    if allEmpty:\n",
    "        rowIndex.append(i)\n",
    "\n",
    "rowModifier = 0\n",
    "for i in rowIndex:\n",
    "    newR = \"\"\n",
    "    for j in range(len(image[i])):\n",
    "        newR += \".\"\n",
    "    image.insert(i+rowModifier, newR)\n",
    "    rowModifier += 1\n",
    "\n",
    "expandedImg = []\n",
    "\n",
    "for i in range(len(image)):\n",
    "    newR = \"\"\n",
    "    for j in range(len(image[i])):\n",
    "        if j not in badColIndex:\n",
    "            newR += \"..\"\n",
    "        else:\n",
    "            newR += image[i][j]\n",
    "    expandedImg.append(newR)\n",
    "\n",
    "#Pathfinding\n",
    "galaxyNum = 1\n",
    "galaxies = []\n",
    "for i in range(len(expandedImg)):\n",
    "    for j in range(len(expandedImg[i])):\n",
    "        if expandedImg[i][j] == \"#\":\n",
    "            galaxies.append(Galaxy(galaxyNum, i, j))\n",
    "            galaxyNum += 1"
   ]
  },
  {
   "cell_type": "code",
   "execution_count": 12,
   "metadata": {},
   "outputs": [
    {
     "name": "stdout",
     "output_type": "stream",
     "text": [
      "9274989\n"
     ]
    }
   ],
   "source": [
    "mySteps = 0\n",
    "for i in range(len(galaxies)-1):\n",
    "    for j in range(len(galaxies)):\n",
    "        if j <= i:\n",
    "            continue\n",
    "        mySteps += abs(galaxies[i].x-galaxies[j].x)+abs(galaxies[i].y-galaxies[j].y)\n",
    "print(mySteps)\n"
   ]
  },
  {
   "cell_type": "code",
   "execution_count": 13,
   "metadata": {},
   "outputs": [
    {
     "name": "stdout",
     "output_type": "stream",
     "text": [
      "[1, 5, 10, 56, 64, 65, 111]\n",
      "[3, 11, 59, 78, 84, 140]\n"
     ]
    }
   ],
   "source": [
    "#Part2\n",
    "with open(\"11.txt\", \"r\") as f:\n",
    "    image = f.readlines()\n",
    "expandModifier = 1000000-1\n",
    "#Expanding\n",
    "rowIndex = []\n",
    "badColIndex = []\n",
    "for i in range(len(image)):\n",
    "    allEmpty = True\n",
    "    for j in range(len(image[i])):\n",
    "        if image[i][j] == \"#\":\n",
    "            allEmpty = False\n",
    "            badColIndex.append(j)\n",
    "    if allEmpty:\n",
    "        rowIndex.append(i)\n",
    "\n",
    "print(rowIndex)\n",
    "goodColIndex = []\n",
    "for j in range(len(image[0])):\n",
    "    if j not in badColIndex:\n",
    "        goodColIndex.append(j)\n",
    "print(goodColIndex)\n",
    "\n",
    "galaxyNum = 1\n",
    "galaxies = []\n",
    "for i in range(len(image)):\n",
    "    for j in range(len(image[i])):\n",
    "        if image[i][j] == \"#\":\n",
    "            modifiedI = i\n",
    "            modifiedJ = j\n",
    "            for rowVal in rowIndex:\n",
    "                if rowVal > i:\n",
    "                    break\n",
    "                modifiedI += expandModifier\n",
    "            for colVal in goodColIndex:\n",
    "                if colVal > j:\n",
    "                    break\n",
    "                modifiedJ += expandModifier\n",
    "            galaxies.append(Galaxy(galaxyNum, modifiedI, modifiedJ))\n",
    "            galaxyNum += 1"
   ]
  },
  {
   "cell_type": "code",
   "execution_count": 14,
   "metadata": {},
   "outputs": [
    {
     "name": "stdout",
     "output_type": "stream",
     "text": [
      "357134560737\n"
     ]
    }
   ],
   "source": [
    "mySteps = 0\n",
    "for i in range(len(galaxies)-1):\n",
    "    for j in range(len(galaxies)):\n",
    "        if j <= i:\n",
    "            continue\n",
    "        mySteps += abs(galaxies[i].x-galaxies[j].x)+abs(galaxies[i].y-galaxies[j].y)\n",
    "print(mySteps)\n"
   ]
  }
 ],
 "metadata": {
  "kernelspec": {
   "display_name": "advent",
   "language": "python",
   "name": "python3"
  },
  "language_info": {
   "codemirror_mode": {
    "name": "ipython",
    "version": 3
   },
   "file_extension": ".py",
   "mimetype": "text/x-python",
   "name": "python",
   "nbconvert_exporter": "python",
   "pygments_lexer": "ipython3",
   "version": "3.11.5"
  }
 },
 "nbformat": 4,
 "nbformat_minor": 2
}
